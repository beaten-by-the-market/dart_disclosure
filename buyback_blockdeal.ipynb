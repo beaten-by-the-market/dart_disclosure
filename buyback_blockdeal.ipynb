{
  "nbformat": 4,
  "nbformat_minor": 0,
  "metadata": {
    "colab": {
      "provenance": [],
      "toc_visible": true,
      "mount_file_id": "1Ej1785uPlNxbEaaN3ZJvVflIgni6vH1D",
      "authorship_tag": "ABX9TyPiS/EmXregkIe+kdM4j/xE",
      "include_colab_link": true
    },
    "kernelspec": {
      "name": "python3",
      "display_name": "Python 3"
    },
    "language_info": {
      "name": "python"
    }
  },
  "cells": [
    {
      "cell_type": "markdown",
      "metadata": {
        "id": "view-in-github",
        "colab_type": "text"
      },
      "source": [
        "<a href=\"https://colab.research.google.com/github/beaten-by-the-market/dart_disclosure/blob/main/buyback_blockdeal.ipynb\" target=\"_parent\"><img src=\"https://colab.research.google.com/assets/colab-badge.svg\" alt=\"Open In Colab\"/></a>"
      ]
    },
    {
      "cell_type": "markdown",
      "source": [
        "## 자사주 매입에서 시간외대량매매는 얼마나 있을까?\n",
        "\n",
        "[**10년간 자사주 매입현황 포스팅(링크)**{: style=\"color: #4682B4;\"}](https://beaten-by-the-market.github.io/%ED%95%9C%EA%B5%AD%EC%8B%9C%EC%9E%A5/kospi-buyback-insight/#%EC%9E%90%EC%82%AC%EC%A3%BC%EC%B7%A8%EB%93%9D-%EC%9E%A5%EB%82%B4-vs-%EC%9E%A5%EC%99%B8-%EA%B5%AC%EB%B6%84%EC%9E%90-%EB%8B%AC%EA%B8%B0)을 작성할 때 '장내'와 '장외'를 구분하면서 개인적으로는 특이하다고 생각한 부분이 있었습니다.\n",
        "\n",
        "### **시간외대량매매**란?\n",
        "주식 시장은 보통 정규 거래 시간(오전 9시 ~ 오후 3시 30분) 동안 거래가 이루어집니다. 하지만 때로는 이 시간 외에도 큰 규모의 주식 거래가 필요할 때가 있습니다. 바로 이럴 때 **\"시간외대량매매\"**가 사용됩니다.<br>\n",
        "\n",
        "시간외대량매매는 말 그대로 정규 거래 시간이 아닌 시간에, 대량으로 주식을 매매하는 거래 방식을 뜻합니다. 여기서 중요한 핵심은 **'대량'**이라는 점입니다. 즉, 일반 투자자들이 주식을 소량으로 사고파는 것이 아니라, 기관 투자자, 대규모 투자자, 혹은 기업 간에 이루어지는 거대한 규모의 주식 거래를 말하는 거죠.<br>\n",
        "\n",
        "> **많은 경우, 거래는 양 당사자(매수자와 매도자) 사이에서 사전 합의를 통해 진행됩니다.**{: style=\"color: #4682B4;\"}\n",
        "\n",
        "여기에 시간외대량매매의 장점이 있습니다. 정규 거래 시간 안에서 대량의 주식을 사고판다면, **주가에 큰 영향을 미칠 수 있습니다.**{: style=\"color: #4682B4;\"} 예를 들어, 갑자기 많은 주식을 사려고 하면 주가가 급등할 수 있고, 반대로 크게 매도하면 주가가 급락할 수 있습니다. 그런데 시간외대량매매를 사용하면 이런 영향을 최소화하면서 매매를 할 수 있습니다.\n",
        "\n",
        "### 자기주식 거래에서 시간외대량매매의 의의\n",
        "자기주식을 매입하는 사유로 기업이 가장 많이 공시하는 것은 **주식 가치 제고**{: style=\"color: #4682B4;\"}입니다. 이러한 사유로 **장내에서 많이 매수할 것이라 추측해볼 수 있습니다.**{: style=\"color: #4682B4;\"}<br>\n",
        "반면, 자기주식을 부득이하게 처분해야할 때 회사는 주가가 최대한 하락하지 않길 원할 것입니다. 따라서 **자사주를 매도할 때는 장내가 아닌 방식으로, 예를 들어 시간외대량매매를 활용할 수 있겠다는 추측을 해볼 수 있습니다.**{: style=\"color: #4682B4;\"}"
      ],
      "metadata": {
        "id": "M_GAOwfB9did"
      }
    },
    {
      "cell_type": "markdown",
      "source": [
        "### 코랩 환경에서 데이터 수집, 시각화를 하기 위해 필요한 라이브러리를 설치"
      ],
      "metadata": {
        "id": "8itijl6LmOFv"
      }
    },
    {
      "cell_type": "code",
      "execution_count": 1,
      "metadata": {
        "id": "4sv4jkE9wBRN",
        "colab": {
          "base_uri": "https://localhost:8080/"
        },
        "outputId": "cd8a9763-4b19-4c53-deb1-15e3b176ebb5"
      },
      "outputs": [
        {
          "output_type": "stream",
          "name": "stdout",
          "text": [
            "Collecting adjustText\n",
            "  Downloading adjustText-1.3.0-py3-none-any.whl.metadata (3.1 kB)\n",
            "Requirement already satisfied: numpy in /usr/local/lib/python3.11/dist-packages (from adjustText) (1.26.4)\n",
            "Requirement already satisfied: matplotlib in /usr/local/lib/python3.11/dist-packages (from adjustText) (3.10.0)\n",
            "Requirement already satisfied: scipy in /usr/local/lib/python3.11/dist-packages (from adjustText) (1.13.1)\n",
            "Requirement already satisfied: contourpy>=1.0.1 in /usr/local/lib/python3.11/dist-packages (from matplotlib->adjustText) (1.3.1)\n",
            "Requirement already satisfied: cycler>=0.10 in /usr/local/lib/python3.11/dist-packages (from matplotlib->adjustText) (0.12.1)\n",
            "Requirement already satisfied: fonttools>=4.22.0 in /usr/local/lib/python3.11/dist-packages (from matplotlib->adjustText) (4.56.0)\n",
            "Requirement already satisfied: kiwisolver>=1.3.1 in /usr/local/lib/python3.11/dist-packages (from matplotlib->adjustText) (1.4.8)\n",
            "Requirement already satisfied: packaging>=20.0 in /usr/local/lib/python3.11/dist-packages (from matplotlib->adjustText) (24.2)\n",
            "Requirement already satisfied: pillow>=8 in /usr/local/lib/python3.11/dist-packages (from matplotlib->adjustText) (11.1.0)\n",
            "Requirement already satisfied: pyparsing>=2.3.1 in /usr/local/lib/python3.11/dist-packages (from matplotlib->adjustText) (3.2.1)\n",
            "Requirement already satisfied: python-dateutil>=2.7 in /usr/local/lib/python3.11/dist-packages (from matplotlib->adjustText) (2.8.2)\n",
            "Requirement already satisfied: six>=1.5 in /usr/local/lib/python3.11/dist-packages (from python-dateutil>=2.7->matplotlib->adjustText) (1.17.0)\n",
            "Downloading adjustText-1.3.0-py3-none-any.whl (13 kB)\n",
            "Installing collected packages: adjustText\n",
            "Successfully installed adjustText-1.3.0\n",
            "W: Skipping acquire of configured file 'main/source/Sources' as repository 'https://r2u.stat.illinois.edu/ubuntu jammy InRelease' does not seem to provide it (sources.list entry misspelt?)\n",
            "Selecting previously unselected package fonts-nanum.\n",
            "(Reading database ... 124926 files and directories currently installed.)\n",
            "Preparing to unpack .../fonts-nanum_20200506-1_all.deb ...\n",
            "Unpacking fonts-nanum (20200506-1) ...\n",
            "Selecting previously unselected package fonts-nanum-coding.\n",
            "Preparing to unpack .../fonts-nanum-coding_2.5-3_all.deb ...\n",
            "Unpacking fonts-nanum-coding (2.5-3) ...\n",
            "Selecting previously unselected package fonts-nanum-eco.\n",
            "Preparing to unpack .../fonts-nanum-eco_1.000-7_all.deb ...\n",
            "Unpacking fonts-nanum-eco (1.000-7) ...\n",
            "Selecting previously unselected package fonts-nanum-extra.\n",
            "Preparing to unpack .../fonts-nanum-extra_20200506-1_all.deb ...\n",
            "Unpacking fonts-nanum-extra (20200506-1) ...\n",
            "Setting up fonts-nanum-extra (20200506-1) ...\n",
            "Setting up fonts-nanum (20200506-1) ...\n",
            "Setting up fonts-nanum-coding (2.5-3) ...\n",
            "Setting up fonts-nanum-eco (1.000-7) ...\n",
            "Processing triggers for fontconfig (2.13.1-4.2ubuntu5) ...\n"
          ]
        }
      ],
      "source": [
        "# 필요한 라이브러리 설치\n",
        "import pandas as pd\n",
        "import requests\n",
        "from io import BytesIO, StringIO\n",
        "from time import sleep\n",
        "from tqdm import tqdm\n",
        "from bs4 import BeautifulSoup\n",
        "import json\n",
        "import re\n",
        "import numpy as np\n",
        "from datetime import datetime\n",
        "\n",
        "# 시각화 관련\n",
        "!pip install adjustText\n",
        "import matplotlib.pyplot as plt\n",
        "import matplotlib.font_manager as fm\n",
        "from adjustText import adjust_text\n",
        "\n",
        "# 한글 폰트 설정 (Google Colab 환경에서)\n",
        "!apt-get update -qq\n",
        "!apt-get install fonts-nanum* -qq\n",
        "\n",
        "fontpath = '/usr/share/fonts/truetype/nanum/NanumBarunGothic.ttf'\n",
        "font = fm.FontProperties(fname=fontpath, size=10)"
      ]
    },
    {
      "cell_type": "markdown",
      "source": [
        "## 코스피 시장에서 시간외대량매매 방식으로 자사주 매입 사례를 찾기"
      ],
      "metadata": {
        "id": "NSC8kBfSXau7"
      }
    },
    {
      "cell_type": "markdown",
      "source": [
        "### 금감원 공시에서 자사주 데이터 수집하기"
      ],
      "metadata": {
        "id": "Ptmn1NSamn2l"
      }
    },
    {
      "cell_type": "code",
      "source": [
        "# 사용자 입력 받기\n",
        "start_y = \"2015\"\n",
        "end_y = \"2024\"\n",
        "corp_type_input = \"유\"\n",
        "\n",
        "# 기본 params 템플릿\n",
        "params = {\n",
        "    \"pageIndex\": \"1\",\n",
        "    \"pageSize\": \"10\",\n",
        "    \"pageUnit\": \"10\",\n",
        "    \"recordCountPerPage\": \"1000\",\n",
        "    \"sortStdr\": \"crp\",\n",
        "    \"sortOrdr\": \"asc\",\n",
        "    \"sumSortStdr\": \"\",\n",
        "    \"sumSortOrdr\": \"asc\",\n",
        "    \"textCrpCik\": \"\",\n",
        "    \"bgnDe\": f\"{start_y}-01-01\",\n",
        "    \"endDe\": f\"{end_y}-12-31\",\n",
        "    \"textCrpNm\": \"\",\n",
        "    \"startDate\": f\"{start_y}-01-01\",\n",
        "    \"endDate\": f\"{end_y}-12-31\",\n",
        "    \"reportCode\": \"11332\" #직접취득 11332, 직접처분 11333, 신탁취득 11334, 신탁해지 11335\n",
        "}\n",
        "\n",
        "# corpType 설정\n",
        "corp_type_map = {\n",
        "    \"유\": \"P\",\n",
        "    \"코\": \"A\",\n",
        "    \"유코\": [\"P\", \"A\"]\n",
        "}\n",
        "\n",
        "if corp_type_input in corp_type_map:\n",
        "    params[\"corpType\"] = corp_type_map[corp_type_input]\n",
        "else:\n",
        "    print('잘못된 입력입니다. 재실행하세요')\n",
        "\n",
        "# 결과 출력\n",
        "params"
      ],
      "metadata": {
        "colab": {
          "base_uri": "https://localhost:8080/"
        },
        "id": "_sC31dxP6Nfg",
        "outputId": "1cee69ee-906d-4d85-9f0f-9780635b8e26"
      },
      "execution_count": 36,
      "outputs": [
        {
          "output_type": "execute_result",
          "data": {
            "text/plain": [
              "{'pageIndex': '1',\n",
              " 'pageSize': '10',\n",
              " 'pageUnit': '10',\n",
              " 'recordCountPerPage': '1000',\n",
              " 'sortStdr': 'crp',\n",
              " 'sortOrdr': 'asc',\n",
              " 'sumSortStdr': '',\n",
              " 'sumSortOrdr': 'asc',\n",
              " 'textCrpCik': '',\n",
              " 'bgnDe': '2015-01-01',\n",
              " 'endDe': '2024-12-31',\n",
              " 'textCrpNm': '',\n",
              " 'startDate': '2015-01-01',\n",
              " 'endDate': '2024-12-31',\n",
              " 'reportCode': '11332',\n",
              " 'corpType': 'P'}"
            ]
          },
          "metadata": {},
          "execution_count": 36
        }
      ]
    },
    {
      "cell_type": "code",
      "source": [
        "# 첫번째 페이지를 기준으로 크롤링\n",
        "url = 'https://opendart.fss.or.kr/disclosureinfo/mainMatter/list.do'\n",
        "req = requests.post(url, params = params)\n",
        "\n",
        "# 데이터를 수집할 빈 데이터프레임 생성\n",
        "df_dart_buyback = pd.DataFrame()\n",
        "\n",
        "# 데이터프레임 파싱\n",
        "content = req.content.decode('utf-8')\n",
        "html_string = StringIO(content)  # StringIO로 HTML 문자열 감싸기\n",
        "df_loop = pd.read_html(html_string)[0]\n",
        "\n",
        "#데이터프레임 합치기\n",
        "df_dart_buyback = pd.concat([df_dart_buyback, df_loop])"
      ],
      "metadata": {
        "id": "N_X4P6i1XeyS"
      },
      "execution_count": 37,
      "outputs": []
    },
    {
      "cell_type": "code",
      "source": [
        "# beautifulsoup 객체로 전환\n",
        "soup = BeautifulSoup(content, 'html.parser')\n",
        "\n",
        "# 끝에서 두번째 div 태그에 페이지 정보가 있음\n",
        "output_string = soup.find_all('div')[-2].text\n",
        "\n",
        "import re\n",
        "\n",
        "# 정규 표현식을 사용하여 숫자 추출\n",
        "match = re.match(r\"\\[(\\d+)/(\\d+)\\] \\[총 (\\d+)건\\]\", output_string)\n",
        "\n",
        "if match:\n",
        "    total_page = int(match.group(2))\n",
        "    total_counts = int(match.group(3))\n",
        "    print(f\"total_page: {total_page}\")\n",
        "    print(f\"total_counts: {total_counts}\")\n",
        "else:\n",
        "    print(\"출력물 형식이 올바르지 않습니다.\")"
      ],
      "metadata": {
        "colab": {
          "base_uri": "https://localhost:8080/"
        },
        "id": "uW5-3_LQuxwF",
        "outputId": "6906bf34-37aa-4b61-e8a3-4022c2fdf328"
      },
      "execution_count": 38,
      "outputs": [
        {
          "output_type": "stream",
          "name": "stdout",
          "text": [
            "total_page: 7\n",
            "total_counts: 649\n"
          ]
        }
      ]
    },
    {
      "cell_type": "code",
      "source": [
        "for i in range(2, total_page + 1):\n",
        "  page_index = str(i)\n",
        "  # params 기준에서 페이지 인덱스만 수정하기\n",
        "  params[\"pageIndex\"] = page_index\n",
        "\n",
        "  req = requests.post(url, params = params)\n",
        "  content = req.content.decode('utf-8')\n",
        "  html_string = StringIO(content)  # StringIO로 HTML 문자열 감싸기\n",
        "  df_loop = pd.read_html(html_string)[0]\n",
        "\n",
        "  # IP차단을 위해 쉬어가기\n",
        "  sleep(1)\n",
        "\n",
        "  #데이터프레임 합치기\n",
        "  df_dart_buyback = pd.concat([df_dart_buyback, df_loop])"
      ],
      "metadata": {
        "id": "0R-jvFzpCYfu"
      },
      "execution_count": 39,
      "outputs": []
    },
    {
      "cell_type": "code",
      "source": [
        "# 멀티인덱스를 1단계로 변환 (문자열 변환 추가)\n",
        "df_dart_buyback.columns = ['_'.join(map(str, filter(None, col))) for col in df_dart_buyback.columns]"
      ],
      "metadata": {
        "id": "uJzmQ5E6J_jw"
      },
      "execution_count": 40,
      "outputs": []
    },
    {
      "cell_type": "code",
      "source": [
        "# 확인된 값을 바탕으로 칼럼명을 지정\n",
        "df_dart_buyback.columns = ['회사명', '접수일',\n",
        "                           '취득예정주식(주)_보통주식', '취득예정주식(주)_기타주식',\n",
        "                           '취득예정금액(원)_보통주식', '취득예정금액(원)_기타주식',\n",
        "                           '취득예상기간_시작일','취득예상기간_종료일',\n",
        "                           '보유예상기간_시작일','보유예상기간_종료일',\n",
        "                           '취득목적', '취득방법', '위탁투자중개업자',\n",
        "                           '취득 전 자기주식 보유현황_배당가능이익 범위 내 취득(주)_보통주식',\n",
        "                           '취득 전 자기주식 보유현황_배당가능이익 범위 내 취득(주)_비율(%)',\n",
        "                           '취득 전 자기주식 보유현황_배당가능이익 범위 내 취득(주)_기타주식',\n",
        "                           '취득 전 자기주식 보유현황_배당가능이익 범위 내 취득(주)_비율(%).1',\n",
        "                           '취득 전 자기주식 보유현황_기타취득(주)_보통주식',\n",
        "                           '취득 전 자기주식 보유현황_기타취득(주)_비율(%)',\n",
        "                           '취득 전 자기주식 보유현황_기타취득(주)_기타주식',\n",
        "                           '취득 전 자기주식 보유현황_기타취득(주)_비율(%).1',\n",
        "                           '취득결정일',\n",
        "                           '사외이사참석여부_참석(명)', '사외이사참석여부_불참(명)',\n",
        "                           '감사 (사외이사가 아닌 감사위원) 참석여부',\n",
        "                           '1일 매수 주문수량 한도_보통주식', '1일 매수 주문수량 한도_기타주식',\n",
        "                           '비고']\n",
        "\n",
        "# 필요한 칼럼만 선택하고 이름을 변경하여 새로운 데이터프레임 생성\n",
        "df_dart_buyback = df_dart_buyback[['회사명', '접수일',\n",
        "                           '취득예정주식(주)_보통주식',\n",
        "                           '취득예정금액(원)_보통주식',\n",
        "                           '취득예상기간_시작일','취득예상기간_종료일',\n",
        "                           '보유예상기간_시작일','보유예상기간_종료일',\n",
        "                           '취득목적', '취득방법']].copy()\n",
        "\n",
        "df_dart_buyback.columns = ['회사명', '접수일',\n",
        "                           '취득예정주식','취득예정금액','취득시작일','취득종료일',\n",
        "                           '보유시작일','보유종료일','취득목적', '취득방법']"
      ],
      "metadata": {
        "id": "I3n-zuG3lWbd"
      },
      "execution_count": 41,
      "outputs": []
    },
    {
      "cell_type": "code",
      "source": [
        "# 기존에는 접수일을 datetime으로 변환 및 연도 추출하였으나,\n",
        "# 공시가 정정될 경우, 연도가 바뀌는 이슈가 있었음\n",
        "# 그리하여 연도의 기준은 '취득예상기간의 시작일'로 설정함\n",
        "\n",
        "#다트 편집기를 보면 날짜를 입력하는 형태는 두가지가 있다\n",
        "#(1) 2022.08.03\n",
        "#(2) 2022년 08월 03일\n",
        "#따라서 두번째 형태일 경우 첫번째 형태로 전환하는 함수를 생성한다\n",
        "def chg_date_format(date_input) :\n",
        "    if '년' in date_input:\n",
        "        new_year = date_input[0:4]\n",
        "        new_month = date_input[6:8]\n",
        "        new_day = date_input[10:12]\n",
        "        new_date = new_year + new_month + new_day\n",
        "    else :\n",
        "        new_date = date_input\n",
        "    return new_date\n",
        "\n",
        "#생성한 함수를 통해서 포맷을 바꿔준다\n",
        "df_dart_buyback['취득시작일'] = df_dart_buyback.취득시작일.apply(lambda x : chg_date_format(x))\n",
        "df_dart_buyback['취득시작일'] = pd.to_datetime(df_dart_buyback['취득시작일'], errors='coerce')\n",
        "df_dart_buyback['연도'] = df_dart_buyback['취득시작일'].dt.year\n",
        "\n",
        "# 데이터 타입 변경\n",
        "df_dart_buyback['연도'] = pd.to_numeric(df_dart_buyback['연도'], errors='coerce').astype('Int64')\n",
        "\n",
        "df_dart_buyback['취득예정주식'] = pd.to_numeric(\n",
        "    df_dart_buyback['취득예정주식'], errors='coerce').fillna(0)\n",
        "\n",
        "df_dart_buyback['취득예정금액'] = pd.to_numeric(\n",
        "    df_dart_buyback['취득예정금액'], errors='coerce').fillna(0) / 1e8  # 원 -> 억 원 변환\n",
        "\n",
        "# 맨 앞의 '유' 또는 '코' 제거, 맨 끝의 'IR' 제거\n",
        "df_dart_buyback['회사명'] = df_dart_buyback['회사명'].str.replace(r'^(유|코)', '', regex=True).str.replace(r'  IR$', '', regex=True).str.replace(r'IR$', '', regex=True)\n"
      ],
      "metadata": {
        "id": "GFTDpyJimJPt"
      },
      "execution_count": 42,
      "outputs": []
    },
    {
      "cell_type": "markdown",
      "source": [
        "### 금감원 공시 기준 데이터 시각화"
      ],
      "metadata": {
        "id": "L_MlPVuoQD6l"
      }
    },
    {
      "cell_type": "code",
      "source": [
        "# 연도별 취득예정주식(주) 및 취득예정금액 집계\n",
        "annual_summary = df_dart_buyback.groupby('연도').agg({\n",
        "    '취득예정주식': 'sum',\n",
        "    '취득예정금액': 'sum'\n",
        "})\n",
        "\n",
        "# 단위 변환\n",
        "annual_summary['취득예정주식'] = annual_summary['취득예정주식'] / 1000000 # 주 -> 백만주 변환\n",
        "\n",
        "# 그래프 크기 설정\n",
        "fig, ax1 = plt.subplots(figsize=(12, 6))\n",
        "\n",
        "# 막대 그래프: 연도별 취득 예정 주식 수\n",
        "bars = ax1.bar(annual_summary.index,\n",
        "               annual_summary['취득예정주식'],\n",
        "               color='skyblue', edgecolor='black', alpha=0.7, label='취득 예정 주식 수(백만주)')\n",
        "ax1.set_xlabel('연도', fontproperties=font, fontsize=12)\n",
        "ax1.set_ylabel('취득 예정 주식 수(백만주)', fontproperties=font, fontsize=12, color='navy')\n",
        "ax1.tick_params(axis='y', labelcolor='navy')\n",
        "\n",
        "# x축 눈금 설정 (모든 연도 표시)\n",
        "plt.xticks(annual_summary.index, fontproperties=font, fontsize=10)\n",
        "\n",
        "# 데이터 라벨 추가 (막대 그래프)\n",
        "texts = []\n",
        "for bar in bars:\n",
        "    height = bar.get_height()\n",
        "    if height > 0:  # 데이터가 있는 경우에만 레이블 추가\n",
        "        texts.append(ax1.text(bar.get_x() + bar.get_width() / 2., height,\n",
        "                              f'{height:,.0f}', ha='center', va='bottom',\n",
        "                              fontproperties=font, fontsize=10))\n",
        "\n",
        "# 보조축 추가: 취득 예정 금액\n",
        "ax2 = ax1.twinx()\n",
        "line, = ax2.plot(annual_summary.index,\n",
        "                 annual_summary['취득예정금액'],\n",
        "                 color='orange', marker='o', label='취득 예정 금액 (억원)')\n",
        "ax2.set_ylabel('취득 예정 금액 (억원)', fontproperties=font, fontsize=12, color='orange')\n",
        "ax2.tick_params(axis='y', labelcolor='orange')\n",
        "\n",
        "# y축 보조축에 천 단위 콤마 추가\n",
        "ax2.yaxis.set_major_formatter(plt.FuncFormatter(lambda x, p: format(int(x), ',')))\n",
        "\n",
        "# 선 그래프 레이블 추가\n",
        "for i, value in enumerate(annual_summary['취득예정금액']):\n",
        "    ax2.text(annual_summary.index[i], value*0.9, f'{value:,.0f}',\n",
        "             color='orange', fontsize=10, ha='center', va='bottom', fontproperties=font)\n",
        "\n",
        "# adjustText를 사용하여 레이블 위치 조정\n",
        "adjust_text(texts, ax=ax1)\n",
        "\n",
        "# y축 그리드 추가\n",
        "ax1.grid(axis='y', linestyle='--', alpha=0.7)\n",
        "\n",
        "# 범례 추가\n",
        "fig.legend(loc='upper left', bbox_transform=ax1.transAxes, prop=font)\n",
        "\n",
        "# 그래프 제목 설정\n",
        "plt.title('연도별 자사주 취득 예정 주식 수 및 금액 (신고 기준)', fontproperties=font, fontsize=16)\n",
        "\n",
        "# 그래프 여백 조정\n",
        "plt.tight_layout()\n",
        "\n",
        "# 그래프 표시\n",
        "plt.show()\n"
      ],
      "metadata": {
        "colab": {
          "base_uri": "https://localhost:8080/",
          "height": 615
        },
        "id": "om2TrmX5sgpZ",
        "outputId": "c7c3c090-2928-4925-d739-b1ff863cc921"
      },
      "execution_count": 43,
      "outputs": [
        {
          "output_type": "display_data",
          "data": {
            "text/plain": [
              "<Figure size 1200x600 with 2 Axes>"
            ],
            "image/png": "[encoded data removed]"
          },
          "metadata": {}
        }
      ]
    },
    {
      "cell_type": "markdown",
      "source": [
        "### 금감원 공시에서 장내 vs 장외 구분자 달기"
      ],
      "metadata": {
        "id": "0DAIFydkmqY2"
      }
    },
    {
      "cell_type": "code",
      "source": [
        "# 정규식 패턴 정의\n",
        "pattern_mkt = re.compile(r'시장|장내|시간\\s?외|거래소')  # '시간 외'와 '시간외'를 모두 포함\n",
        "pattern_otc_exclude = re.compile(r'시장\\s?외')  # '시장 외'와 '시장외'를 모두 포함\n",
        "\n",
        "# method 열 생성\n",
        "def categorize_method(method):\n",
        "    if pattern_mkt.search(method) and not pattern_otc_exclude.search(method):\n",
        "        return 'mkt'\n",
        "    else:\n",
        "        return 'otc'\n",
        "\n",
        "# 새로운 열에 카테고리 할당\n",
        "df_dart_buyback['method'] = df_dart_buyback['취득방법'].apply(categorize_method)"
      ],
      "metadata": {
        "id": "RPJWp7AmrQ-x"
      },
      "execution_count": 44,
      "outputs": []
    },
    {
      "cell_type": "markdown",
      "source": [
        "### 금감원 공시에서 시간외대량매매 구분자 달기"
      ],
      "metadata": {
        "id": "AfqhZVmrQMcU"
      }
    },
    {
      "cell_type": "code",
      "source": [
        "# 정규식 패턴 정의 |\n",
        "pattern_blockdeal = re.compile(r'대량|시간\\s?외')  # 대량, 시간외가 있으면 포함\n",
        "pattern_otc_exclude = re.compile(r'시장\\s?외')  # '시장 외'와 '시장외'를 모두 포함\n",
        "\n",
        "# method 열 생성\n",
        "def categorize_method_blockdeal(method):\n",
        "    if pattern_blockdeal.search(method) and not pattern_otc_exclude.search(method):\n",
        "        return 'blockdeal'\n",
        "    else:\n",
        "        return 'not_bd'\n",
        "\n",
        "# 새로운 열에 카테고리 할당\n",
        "df_dart_buyback['blockdeal'] = df_dart_buyback['취득방법'].apply(categorize_method_blockdeal)\n",
        "\n",
        "# 확인해보기\n",
        "df_dart_buyback[df_dart_buyback['blockdeal'] ==  'blockdeal']"
      ],
      "metadata": {
        "colab": {
          "base_uri": "https://localhost:8080/",
          "height": 164
        },
        "id": "_bLtM9MdmwkO",
        "outputId": "74f10204-f732-4295-ac80-c707d7764c91"
      },
      "execution_count": 45,
      "outputs": [
        {
          "output_type": "execute_result",
          "data": {
            "text/plain": [
              "       회사명         접수일      취득예정주식       취득예정금액      취득시작일          취득종료일  \\\n",
              "98  우리금융지주  2024-03-13   9357960.0  1366.262160 2024-03-14  2024년 03월 14일   \n",
              "95    한화생명  2015-10-29  65139750.0  5202.711833 2015-10-28  2015년 10월 29일   \n",
              "\n",
              "   보유시작일 보유종료일                      취득목적      취득방법    연도 method  blockdeal  \n",
              "98     -     -  자기주식 취득 및 소각을 통한 주주가치 제고   시간외대량매매  2024    mkt  blockdeal  \n",
              "95     -     -         주가 안정을 통한 주주가치 제고  시간외 대량매매  2015    mkt  blockdeal  "
            ],
            "text/html": [
              "\n",
              "  <div id=\"df-8c8632f0-3af8-48e4-869c-284ce82f3cce\" class=\"colab-df-container\">\n",
              "    <div>\n",
              "<style scoped>\n",
              "    .dataframe tbody tr th:only-of-type {\n",
              "        vertical-align: middle;\n",
              "    }\n",
              "\n",
              "    .dataframe tbody tr th {\n",
              "        vertical-align: top;\n",
              "    }\n",
              "\n",
              "    .dataframe thead th {\n",
              "        text-align: right;\n",
              "    }\n",
              "</style>\n",
              "<table border=\"1\" class=\"dataframe\">\n",
              "  <thead>\n",
              "    <tr style=\"text-align: right;\">\n",
              "      <th></th>\n",
              "      <th>회사명</th>\n",
              "      <th>접수일</th>\n",
              "      <th>취득예정주식</th>\n",
              "      <th>취득예정금액</th>\n",
              "      <th>취득시작일</th>\n",
              "      <th>취득종료일</th>\n",
              "      <th>보유시작일</th>\n",
              "      <th>보유종료일</th>\n",
              "      <th>취득목적</th>\n",
              "      <th>취득방법</th>\n",
              "      <th>연도</th>\n",
              "      <th>method</th>\n",
              "      <th>blockdeal</th>\n",
              "    </tr>\n",
              "  </thead>\n",
              "  <tbody>\n",
              "    <tr>\n",
              "      <th>98</th>\n",
              "      <td>우리금융지주</td>\n",
              "      <td>2024-03-13</td>\n",
              "      <td>9357960.0</td>\n",
              "      <td>1366.262160</td>\n",
              "      <td>2024-03-14</td>\n",
              "      <td>2024년 03월 14일</td>\n",
              "      <td>-</td>\n",
              "      <td>-</td>\n",
              "      <td>자기주식 취득 및 소각을 통한 주주가치 제고</td>\n",
              "      <td>시간외대량매매</td>\n",
              "      <td>2024</td>\n",
              "      <td>mkt</td>\n",
              "      <td>blockdeal</td>\n",
              "    </tr>\n",
              "    <tr>\n",
              "      <th>95</th>\n",
              "      <td>한화생명</td>\n",
              "      <td>2015-10-29</td>\n",
              "      <td>65139750.0</td>\n",
              "      <td>5202.711833</td>\n",
              "      <td>2015-10-28</td>\n",
              "      <td>2015년 10월 29일</td>\n",
              "      <td>-</td>\n",
              "      <td>-</td>\n",
              "      <td>주가 안정을 통한 주주가치 제고</td>\n",
              "      <td>시간외 대량매매</td>\n",
              "      <td>2015</td>\n",
              "      <td>mkt</td>\n",
              "      <td>blockdeal</td>\n",
              "    </tr>\n",
              "  </tbody>\n",
              "</table>\n",
              "</div>\n",
              "    <div class=\"colab-df-buttons\">\n",
              "\n",
              "  <div class=\"colab-df-container\">\n",
              "    <button class=\"colab-df-convert\" onclick=\"convertToInteractive('df-8c8632f0-3af8-48e4-869c-284ce82f3cce')\"\n",
              "            title=\"Convert this dataframe to an interactive table.\"\n",
              "            style=\"display:none;\">\n",
              "\n",
              "  <svg xmlns=\"http://www.w3.org/2000/svg\" height=\"24px\" viewBox=\"0 -960 960 960\">\n",
              "    <path d=\"M120-120v-720h720v720H120Zm60-500h600v-160H180v160Zm220 220h160v-160H400v160Zm0 220h160v-160H400v160ZM180-400h160v-160H180v160Zm440 0h160v-160H620v160ZM180-180h160v-160H180v160Zm440 0h160v-160H620v160Z\"/>\n",
              "  </svg>\n",
              "    </button>\n",
              "\n",
              "  <style>\n",
              "    .colab-df-container {\n",
              "      display:flex;\n",
              "      gap: 12px;\n",
              "    }\n",
              "\n",
              "    .colab-df-convert {\n",
              "      background-color: #E8F0FE;\n",
              "      border: none;\n",
              "      border-radius: 50%;\n",
              "      cursor: pointer;\n",
              "      display: none;\n",
              "      fill: #1967D2;\n",
              "      height: 32px;\n",
              "      padding: 0 0 0 0;\n",
              "      width: 32px;\n",
              "    }\n",
              "\n",
              "    .colab-df-convert:hover {\n",
              "      background-color: #E2EBFA;\n",
              "      box-shadow: 0px 1px 2px rgba(60, 64, 67, 0.3), 0px 1px 3px 1px rgba(60, 64, 67, 0.15);\n",
              "      fill: #174EA6;\n",
              "    }\n",
              "\n",
              "    .colab-df-buttons div {\n",
              "      margin-bottom: 4px;\n",
              "    }\n",
              "\n",
              "    [theme=dark] .colab-df-convert {\n",
              "      background-color: #3B4455;\n",
              "      fill: #D2E3FC;\n",
              "    }\n",
              "\n",
              "    [theme=dark] .colab-df-convert:hover {\n",
              "      background-color: #434B5C;\n",
              "      box-shadow: 0px 1px 3px 1px rgba(0, 0, 0, 0.15);\n",
              "      filter: drop-shadow(0px 1px 2px rgba(0, 0, 0, 0.3));\n",
              "      fill: #FFFFFF;\n",
              "    }\n",
              "  </style>\n",
              "\n",
              "    <script>\n",
              "      const buttonEl =\n",
              "        document.querySelector('#df-8c8632f0-3af8-48e4-869c-284ce82f3cce button.colab-df-convert');\n",
              "      buttonEl.style.display =\n",
              "        google.colab.kernel.accessAllowed ? 'block' : 'none';\n",
              "\n",
              "      async function convertToInteractive(key) {\n",
              "        const element = document.querySelector('#df-8c8632f0-3af8-48e4-869c-284ce82f3cce');\n",
              "        const dataTable =\n",
              "          await google.colab.kernel.invokeFunction('convertToInteractive',\n",
              "                                                    [key], {});\n",
              "        if (!dataTable) return;\n",
              "\n",
              "        const docLinkHtml = 'Like what you see? Visit the ' +\n",
              "          '<a target=\"_blank\" href=https://colab.research.google.com/notebooks/data_table.ipynb>data table notebook</a>'\n",
              "          + ' to learn more about interactive tables.';\n",
              "        element.innerHTML = '';\n",
              "        dataTable['output_type'] = 'display_data';\n",
              "        await google.colab.output.renderOutput(dataTable, element);\n",
              "        const docLink = document.createElement('div');\n",
              "        docLink.innerHTML = docLinkHtml;\n",
              "        element.appendChild(docLink);\n",
              "      }\n",
              "    </script>\n",
              "  </div>\n",
              "\n",
              "\n",
              "<div id=\"df-036af13e-1637-4b34-95d8-b392483eea13\">\n",
              "  <button class=\"colab-df-quickchart\" onclick=\"quickchart('df-036af13e-1637-4b34-95d8-b392483eea13')\"\n",
              "            title=\"Suggest charts\"\n",
              "            style=\"display:none;\">\n",
              "\n",
              "<svg xmlns=\"http://www.w3.org/2000/svg\" height=\"24px\"viewBox=\"0 0 24 24\"\n",
              "     width=\"24px\">\n",
              "    <g>\n",
              "        <path d=\"M19 3H5c-1.1 0-2 .9-2 2v14c0 1.1.9 2 2 2h14c1.1 0 2-.9 2-2V5c0-1.1-.9-2-2-2zM9 17H7v-7h2v7zm4 0h-2V7h2v10zm4 0h-2v-4h2v4z\"/>\n",
              "    </g>\n",
              "</svg>\n",
              "  </button>\n",
              "\n",
              "<style>\n",
              "  .colab-df-quickchart {\n",
              "      --bg-color: #E8F0FE;\n",
              "      --fill-color: #1967D2;\n",
              "      --hover-bg-color: #E2EBFA;\n",
              "      --hover-fill-color: #174EA6;\n",
              "      --disabled-fill-color: #AAA;\n",
              "      --disabled-bg-color: #DDD;\n",
              "  }\n",
              "\n",
              "  [theme=dark] .colab-df-quickchart {\n",
              "      --bg-color: #3B4455;\n",
              "      --fill-color: #D2E3FC;\n",
              "      --hover-bg-color: #434B5C;\n",
              "      --hover-fill-color: #FFFFFF;\n",
              "      --disabled-bg-color: #3B4455;\n",
              "      --disabled-fill-color: #666;\n",
              "  }\n",
              "\n",
              "  .colab-df-quickchart {\n",
              "    background-color: var(--bg-color);\n",
              "    border: none;\n",
              "    border-radius: 50%;\n",
              "    cursor: pointer;\n",
              "    display: none;\n",
              "    fill: var(--fill-color);\n",
              "    height: 32px;\n",
              "    padding: 0;\n",
              "    width: 32px;\n",
              "  }\n",
              "\n",
              "  .colab-df-quickchart:hover {\n",
              "    background-color: var(--hover-bg-color);\n",
              "    box-shadow: 0 1px 2px rgba(60, 64, 67, 0.3), 0 1px 3px 1px rgba(60, 64, 67, 0.15);\n",
              "    fill: var(--button-hover-fill-color);\n",
              "  }\n",
              "\n",
              "  .colab-df-quickchart-complete:disabled,\n",
              "  .colab-df-quickchart-complete:disabled:hover {\n",
              "    background-color: var(--disabled-bg-color);\n",
              "    fill: var(--disabled-fill-color);\n",
              "    box-shadow: none;\n",
              "  }\n",
              "\n",
              "  .colab-df-spinner {\n",
              "    border: 2px solid var(--fill-color);\n",
              "    border-color: transparent;\n",
              "    border-bottom-color: var(--fill-color);\n",
              "    animation:\n",
              "      spin 1s steps(1) infinite;\n",
              "  }\n",
              "\n",
              "  @keyframes spin {\n",
              "    0% {\n",
              "      border-color: transparent;\n",
              "      border-bottom-color: var(--fill-color);\n",
              "      border-left-color: var(--fill-color);\n",
              "    }\n",
              "    20% {\n",
              "      border-color: transparent;\n",
              "      border-left-color: var(--fill-color);\n",
              "      border-top-color: var(--fill-color);\n",
              "    }\n",
              "    30% {\n",
              "      border-color: transparent;\n",
              "      border-left-color: var(--fill-color);\n",
              "      border-top-color: var(--fill-color);\n",
              "      border-right-color: var(--fill-color);\n",
              "    }\n",
              "    40% {\n",
              "      border-color: transparent;\n",
              "      border-right-color: var(--fill-color);\n",
              "      border-top-color: var(--fill-color);\n",
              "    }\n",
              "    60% {\n",
              "      border-color: transparent;\n",
              "      border-right-color: var(--fill-color);\n",
              "    }\n",
              "    80% {\n",
              "      border-color: transparent;\n",
              "      border-right-color: var(--fill-color);\n",
              "      border-bottom-color: var(--fill-color);\n",
              "    }\n",
              "    90% {\n",
              "      border-color: transparent;\n",
              "      border-bottom-color: var(--fill-color);\n",
              "    }\n",
              "  }\n",
              "</style>\n",
              "\n",
              "  <script>\n",
              "    async function quickchart(key) {\n",
              "      const quickchartButtonEl =\n",
              "        document.querySelector('#' + key + ' button');\n",
              "      quickchartButtonEl.disabled = true;  // To prevent multiple clicks.\n",
              "      quickchartButtonEl.classList.add('colab-df-spinner');\n",
              "      try {\n",
              "        const charts = await google.colab.kernel.invokeFunction(\n",
              "            'suggestCharts', [key], {});\n",
              "      } catch (error) {\n",
              "        console.error('Error during call to suggestCharts:', error);\n",
              "      }\n",
              "      quickchartButtonEl.classList.remove('colab-df-spinner');\n",
              "      quickchartButtonEl.classList.add('colab-df-quickchart-complete');\n",
              "    }\n",
              "    (() => {\n",
              "      let quickchartButtonEl =\n",
              "        document.querySelector('#df-036af13e-1637-4b34-95d8-b392483eea13 button');\n",
              "      quickchartButtonEl.style.display =\n",
              "        google.colab.kernel.accessAllowed ? 'block' : 'none';\n",
              "    })();\n",
              "  </script>\n",
              "</div>\n",
              "\n",
              "    </div>\n",
              "  </div>\n"
            ],
            "application/vnd.google.colaboratory.intrinsic+json": {
              "type": "dataframe",
              "repr_error": "0"
            }
          },
          "metadata": {},
          "execution_count": 45
        }
      ]
    },
    {
      "cell_type": "markdown",
      "source": [
        "2015년부터 2024년 사이에 자사주 매입을 '시간외대량매매'방식으로 한 경우는 두 번이었습니다. **우리금융지주**와 **한화생명**이었네요. 둘다 공통적으로 **예금보험공사**로부터 사들이는 경우였습니다.\n",
        "<br>\n",
        "따라서 이러한 특수한 경우를 제외하고는, **자사주 매입을 시간외대량매매로 하는 경우는 사실상 없다고 봐도 되겠습니다.**\n",
        "\n",
        "<br>\n",
        "\n",
        "![woori]({{site.url}}/assets/images/2025-02-15-blockdeal/woori.png)\n",
        "<br>\n",
        "\n",
        "![hanhwa]({{site.url}}/assets/images/2025-02-15-blockdeal/hanhwa.png)\n",
        "\n",
        "혹시 모르니, '취득방법'으로 기재한 내용 전체를 확인해 볼까요? 시간외대량매매에 해당하는 내용은 정말 두 케이스 밖에 없는 것 같습니다."
      ],
      "metadata": {
        "id": "GOzQQlZFRHA2"
      }
    },
    {
      "cell_type": "code",
      "source": [
        "sorted(df_dart_buyback['취득방법'].unique())"
      ],
      "metadata": {
        "colab": {
          "base_uri": "https://localhost:8080/"
        },
        "id": "3rsAIU5DTohG",
        "outputId": "bff0d5c8-13f5-45a3-bede-36d8977480b5"
      },
      "execution_count": 46,
      "outputs": [
        {
          "output_type": "execute_result",
          "data": {
            "text/plain": [
              "['-',\n",
              " '거래소 유가증권시장을 통한 매수',\n",
              " '공개매수',\n",
              " '무상 수증',\n",
              " '무상수증',\n",
              " '시간외 대량매매',\n",
              " '시간외대량매매',\n",
              " '유가시장을 통한 직접 취득',\n",
              " '유가증권 시장을 통한 장내 매수',\n",
              " '유가증권 시장을 통한 장내 직접 취득',\n",
              " '유가증권 시장을 통한 장내매매',\n",
              " '유가증권 시장을 통한 장내매수',\n",
              " '유가증권 시장을 통한 직접 매수',\n",
              " '유가증권 시장을 통한 직접 취득',\n",
              " '유가증권 시장을 통한 직접취득',\n",
              " '유가증권시장 장내매수',\n",
              " '유가증권시장에서 장내매수',\n",
              " '유가증권시장에서의 장내직접취득',\n",
              " '유가증권시장에서의 직접 취득',\n",
              " '유가증권시장에서의 취득',\n",
              " '유가증권시장을 통한 매수',\n",
              " '유가증권시장을 통한 장내 매수',\n",
              " '유가증권시장을 통한 장내 직접 취득',\n",
              " '유가증권시장을 통한 장내 직접매수',\n",
              " '유가증권시장을 통한 장내 직접취득',\n",
              " '유가증권시장을 통한 장내매수',\n",
              " '유가증권시장을 통한 장내매수 (직접취득)',\n",
              " '유가증권시장을 통한 장내매수(장중취득)',\n",
              " '유가증권시장을 통한 장내매수(직접 취득)',\n",
              " '유가증권시장을 통한 장내매수(직접취득)',\n",
              " '유가증권시장을 통한 장내직접취득',\n",
              " '유가증권시장을 통한 직접 취득',\n",
              " '유가증권시장을 통한 직접취득',\n",
              " '유가증권시장을 통한장내매수',\n",
              " '유가증권을 통한 장내매수',\n",
              " '자본시장법 등 관계법령에서 정한 방법에 따라 장내 매수',\n",
              " '장내 매수',\n",
              " '장내 직접 매수',\n",
              " '장내 직접 취득',\n",
              " '장내 직접취득',\n",
              " '장내매수',\n",
              " '장내매수(직접취득)',\n",
              " '장내취득',\n",
              " '장외 직접 거래',\n",
              " '장외 직접 매수',\n",
              " '장외 취득',\n",
              " '장외매수',\n",
              " '장외직접매수',\n",
              " '장외취득',\n",
              " '장외회수(직접취득)',\n",
              " '증권시장 장내 직접취득',\n",
              " '증권시장 장내취득',\n",
              " '증권시장에서 장내취득',\n",
              " '증권시장에서의 장내 직접취득',\n",
              " '증권시장에서의 취득',\n",
              " '증권시장을 통한 장내매수',\n",
              " '증권시장을 통한 직접취득',\n",
              " '증여',\n",
              " '창업주 김정식 회장의 무상 출연']"
            ]
          },
          "metadata": {},
          "execution_count": 46
        }
      ]
    },
    {
      "cell_type": "markdown",
      "source": [
        "## 코스닥 시장에서 시간외대량매매 방식으로 자사주 매입 사례를 찾기"
      ],
      "metadata": {
        "id": "sP26P0JCQhrd"
      }
    },
    {
      "cell_type": "markdown",
      "source": [
        "### 금감원 공시에서 자사주 데이터 수집하기"
      ],
      "metadata": {
        "id": "a8jhuFSmXuwM"
      }
    },
    {
      "cell_type": "code",
      "source": [
        "# 사용자 입력 받기\n",
        "start_y = \"2015\"\n",
        "end_y = \"2024\"\n",
        "corp_type_input = \"코\"\n",
        "\n",
        "# 기본 params 템플릿\n",
        "params = {\n",
        "    \"pageIndex\": \"1\",\n",
        "    \"pageSize\": \"10\",\n",
        "    \"pageUnit\": \"10\",\n",
        "    \"recordCountPerPage\": \"1000\",\n",
        "    \"sortStdr\": \"crp\",\n",
        "    \"sortOrdr\": \"asc\",\n",
        "    \"sumSortStdr\": \"\",\n",
        "    \"sumSortOrdr\": \"asc\",\n",
        "    \"textCrpCik\": \"\",\n",
        "    \"bgnDe\": f\"{start_y}-01-01\",\n",
        "    \"endDe\": f\"{end_y}-12-31\",\n",
        "    \"textCrpNm\": \"\",\n",
        "    \"startDate\": f\"{start_y}-01-01\",\n",
        "    \"endDate\": f\"{end_y}-12-31\",\n",
        "    \"reportCode\": \"11332\" #직접취득 11332, 직접처분 11333, 신탁취득 11334, 신탁해지 11335\n",
        "}\n",
        "\n",
        "# corpType 설정\n",
        "corp_type_map = {\n",
        "    \"유\": \"P\",\n",
        "    \"코\": \"A\",\n",
        "    \"유코\": [\"P\", \"A\"]\n",
        "}\n",
        "\n",
        "if corp_type_input in corp_type_map:\n",
        "    params[\"corpType\"] = corp_type_map[corp_type_input]\n",
        "else:\n",
        "    print('잘못된 입력입니다. 재실행하세요')\n",
        "\n",
        "# 결과 출력\n",
        "params"
      ],
      "metadata": {
        "colab": {
          "base_uri": "https://localhost:8080/"
        },
        "outputId": "ab1f848e-3e76-4b8f-ef19-e5c275c3a0ba",
        "id": "g5yVxgWGQfhr"
      },
      "execution_count": 21,
      "outputs": [
        {
          "output_type": "execute_result",
          "data": {
            "text/plain": [
              "{'pageIndex': '1',\n",
              " 'pageSize': '10',\n",
              " 'pageUnit': '10',\n",
              " 'recordCountPerPage': '1000',\n",
              " 'sortStdr': 'crp',\n",
              " 'sortOrdr': 'asc',\n",
              " 'sumSortStdr': '',\n",
              " 'sumSortOrdr': 'asc',\n",
              " 'textCrpCik': '',\n",
              " 'bgnDe': '2015-01-01',\n",
              " 'endDe': '2024-12-31',\n",
              " 'textCrpNm': '',\n",
              " 'startDate': '2015-01-01',\n",
              " 'endDate': '2024-12-31',\n",
              " 'reportCode': '11332',\n",
              " 'corpType': 'A'}"
            ]
          },
          "metadata": {},
          "execution_count": 21
        }
      ]
    },
    {
      "cell_type": "markdown",
      "source": [
        "처음 크롤링은 페이지 인덱스 1을 기준으로 한다. 첫번째 페이지를 크롤링 했을 때, 그 결과물에는 전체 페이지가 얼마나 되는지 정보가 포함되어 있다. 따라서 첫번째 페이지 크롤링 결과물에서 페이지가 2이상인 것으로 확인되는 경우 추가로 크롤링을 수행한다.\n",
        "\n",
        "우선 첫번째 페이지의 크롤링을 수행한다."
      ],
      "metadata": {
        "id": "zDdvWvnqQfhr"
      }
    },
    {
      "cell_type": "code",
      "source": [
        "# 첫번째 페이지를 기준으로 크롤링\n",
        "url = 'https://opendart.fss.or.kr/disclosureinfo/mainMatter/list.do'\n",
        "req = requests.post(url, params = params)\n",
        "\n",
        "# 데이터를 수집할 빈 데이터프레임 생성\n",
        "df_dart_buyback = pd.DataFrame()\n",
        "\n",
        "# 데이터프레임 파싱\n",
        "content = req.content.decode('utf-8')\n",
        "html_string = StringIO(content)  # StringIO로 HTML 문자열 감싸기\n",
        "df_loop = pd.read_html(html_string)[0]\n",
        "\n",
        "#데이터프레임 합치기\n",
        "df_dart_buyback = pd.concat([df_dart_buyback, df_loop])"
      ],
      "metadata": {
        "id": "ZPNc0VmQQfhr"
      },
      "execution_count": 22,
      "outputs": []
    },
    {
      "cell_type": "markdown",
      "source": [
        "첫번째 페이지의 크롤링 결과물에서 전체 페이지 수를 확인하고, 페이지가 2이상일 경우 페이지 수만큼 Loop을 통해 크롤링 수행한다."
      ],
      "metadata": {
        "id": "xBMkdAttQfhr"
      }
    },
    {
      "cell_type": "code",
      "source": [
        "# beautifulsoup 객체로 전환\n",
        "soup = BeautifulSoup(content, 'html.parser')\n",
        "\n",
        "# 끝에서 두번째 div 태그에 페이지 정보가 있음\n",
        "output_string = soup.find_all('div')[-2].text\n",
        "\n",
        "import re\n",
        "\n",
        "# 정규 표현식을 사용하여 숫자 추출\n",
        "match = re.match(r\"\\[(\\d+)/(\\d+)\\] \\[총 (\\d+)건\\]\", output_string)\n",
        "\n",
        "if match:\n",
        "    total_page = int(match.group(2))\n",
        "    total_counts = int(match.group(3))\n",
        "    print(f\"total_page: {total_page}\")\n",
        "    print(f\"total_counts: {total_counts}\")\n",
        "else:\n",
        "    print(\"출력물 형식이 올바르지 않습니다.\")"
      ],
      "metadata": {
        "colab": {
          "base_uri": "https://localhost:8080/"
        },
        "outputId": "67ed5912-e7a8-42a8-c4b0-1192628565f8",
        "id": "CwwOrMAOQfhs"
      },
      "execution_count": 23,
      "outputs": [
        {
          "output_type": "stream",
          "name": "stdout",
          "text": [
            "total_page: 8\n",
            "total_counts: 800\n"
          ]
        }
      ]
    },
    {
      "cell_type": "markdown",
      "source": [
        "*   확인한 페이지 개수대로 loop 돌리기\n",
        "\n"
      ],
      "metadata": {
        "id": "CXuyvvroQfhs"
      }
    },
    {
      "cell_type": "code",
      "source": [
        "for i in range(2, total_page + 1):\n",
        "  page_index = str(i)\n",
        "  # params 기준에서 페이지 인덱스만 수정하기\n",
        "  params[\"pageIndex\"] = page_index\n",
        "\n",
        "  req = requests.post(url, params = params)\n",
        "  content = req.content.decode('utf-8')\n",
        "  html_string = StringIO(content)  # StringIO로 HTML 문자열 감싸기\n",
        "  df_loop = pd.read_html(html_string)[0]\n",
        "\n",
        "  # IP차단을 위해 쉬어가기\n",
        "  sleep(1)\n",
        "\n",
        "  #데이터프레임 합치기\n",
        "  df_dart_buyback = pd.concat([df_dart_buyback, df_loop])"
      ],
      "metadata": {
        "id": "P_BJz-shQfhs"
      },
      "execution_count": 24,
      "outputs": []
    },
    {
      "cell_type": "markdown",
      "source": [
        "데이터를 모두 수집하여 데이터프레임으로 만들었다. 다운받은 데이터프레임의 칼럼이 현재 3단계로 되어있는데, 분석의 편의성을 위해 칼럼을 1단계로 축소하고 단위를 변환(원 → 억원)한다."
      ],
      "metadata": {
        "id": "ih2SM9a_Qfhs"
      }
    },
    {
      "cell_type": "code",
      "source": [
        "# 멀티인덱스를 1단계로 변환 (문자열 변환 추가)\n",
        "df_dart_buyback.columns = ['_'.join(map(str, filter(None, col))) for col in df_dart_buyback.columns]"
      ],
      "metadata": {
        "id": "mt4sajr9Qfhs"
      },
      "execution_count": 25,
      "outputs": []
    },
    {
      "cell_type": "code",
      "source": [
        "# 확인된 값을 바탕으로 칼럼명을 지정\n",
        "df_dart_buyback.columns = ['회사명', '접수일',\n",
        "                           '취득예정주식(주)_보통주식', '취득예정주식(주)_기타주식',\n",
        "                           '취득예정금액(원)_보통주식', '취득예정금액(원)_기타주식',\n",
        "                           '취득예상기간_시작일','취득예상기간_종료일',\n",
        "                           '보유예상기간_시작일','보유예상기간_종료일',\n",
        "                           '취득목적', '취득방법', '위탁투자중개업자',\n",
        "                           '취득 전 자기주식 보유현황_배당가능이익 범위 내 취득(주)_보통주식',\n",
        "                           '취득 전 자기주식 보유현황_배당가능이익 범위 내 취득(주)_비율(%)',\n",
        "                           '취득 전 자기주식 보유현황_배당가능이익 범위 내 취득(주)_기타주식',\n",
        "                           '취득 전 자기주식 보유현황_배당가능이익 범위 내 취득(주)_비율(%).1',\n",
        "                           '취득 전 자기주식 보유현황_기타취득(주)_보통주식',\n",
        "                           '취득 전 자기주식 보유현황_기타취득(주)_비율(%)',\n",
        "                           '취득 전 자기주식 보유현황_기타취득(주)_기타주식',\n",
        "                           '취득 전 자기주식 보유현황_기타취득(주)_비율(%).1',\n",
        "                           '취득결정일',\n",
        "                           '사외이사참석여부_참석(명)', '사외이사참석여부_불참(명)',\n",
        "                           '감사 (사외이사가 아닌 감사위원) 참석여부',\n",
        "                           '1일 매수 주문수량 한도_보통주식', '1일 매수 주문수량 한도_기타주식',\n",
        "                           '비고']\n",
        "\n",
        "# 필요한 칼럼만 선택하고 이름을 변경하여 새로운 데이터프레임 생성\n",
        "df_dart_buyback = df_dart_buyback[['회사명', '접수일',\n",
        "                           '취득예정주식(주)_보통주식',\n",
        "                           '취득예정금액(원)_보통주식',\n",
        "                           '취득예상기간_시작일','취득예상기간_종료일',\n",
        "                           '보유예상기간_시작일','보유예상기간_종료일',\n",
        "                           '취득목적', '취득방법']].copy()\n",
        "\n",
        "df_dart_buyback.columns = ['회사명', '접수일',\n",
        "                           '취득예정주식','취득예정금액','취득시작일','취득종료일',\n",
        "                           '보유시작일','보유종료일','취득목적', '취득방법']"
      ],
      "metadata": {
        "id": "bu7RTAZIQfhs"
      },
      "execution_count": 26,
      "outputs": []
    },
    {
      "cell_type": "code",
      "source": [
        "# 기존에는 접수일을 datetime으로 변환 및 연도 추출하였으나,\n",
        "# 공시가 정정될 경우, 연도가 바뀌는 이슈가 있었음\n",
        "# 그리하여 연도의 기준은 '취득예상기간의 시작일'로 설정함\n",
        "\n",
        "#다트 편집기를 보면 날짜를 입력하는 형태는 두가지가 있다\n",
        "#(1) 2022.08.03\n",
        "#(2) 2022년 08월 03일\n",
        "#따라서 두번째 형태일 경우 첫번째 형태로 전환하는 함수를 생성한다\n",
        "def chg_date_format(date_input) :\n",
        "    if '년' in date_input:\n",
        "        new_year = date_input[0:4]\n",
        "        new_month = date_input[6:8]\n",
        "        new_day = date_input[10:12]\n",
        "        new_date = new_year + new_month + new_day\n",
        "    else :\n",
        "        new_date = date_input\n",
        "    return new_date\n",
        "\n",
        "#생성한 함수를 통해서 포맷을 바꿔준다\n",
        "df_dart_buyback['취득시작일'] = df_dart_buyback.취득시작일.apply(lambda x : chg_date_format(x))\n",
        "df_dart_buyback['취득시작일'] = pd.to_datetime(df_dart_buyback['취득시작일'], errors='coerce')\n",
        "df_dart_buyback['연도'] = df_dart_buyback['취득시작일'].dt.year\n",
        "\n",
        "# 데이터 타입 변경\n",
        "df_dart_buyback['연도'] = pd.to_numeric(df_dart_buyback['연도'], errors='coerce').astype('Int64')\n",
        "\n",
        "df_dart_buyback['취득예정주식'] = pd.to_numeric(\n",
        "    df_dart_buyback['취득예정주식'], errors='coerce').fillna(0)\n",
        "\n",
        "df_dart_buyback['취득예정금액'] = pd.to_numeric(\n",
        "    df_dart_buyback['취득예정금액'], errors='coerce').fillna(0) / 1e8  # 원 -> 억 원 변환\n",
        "\n",
        "# 맨 앞의 '유' 또는 '코' 제거, 맨 끝의 'IR' 제거\n",
        "df_dart_buyback['회사명'] = df_dart_buyback['회사명'].str.replace(r'^(유|코)', '', regex=True).str.replace(r'  IR$', '', regex=True).str.replace(r'IR$', '', regex=True)\n"
      ],
      "metadata": {
        "id": "I_R1iOhlQfhs"
      },
      "execution_count": 27,
      "outputs": []
    },
    {
      "cell_type": "markdown",
      "source": [
        "### 금감원 공시 기준 데이터 시각화"
      ],
      "metadata": {
        "id": "IivZ6UJQQfhs"
      }
    },
    {
      "cell_type": "code",
      "source": [
        "# 연도별 취득예정주식(주) 및 취득예정금액 집계\n",
        "annual_summary = df_dart_buyback.groupby('연도').agg({\n",
        "    '취득예정주식': 'sum',\n",
        "    '취득예정금액': 'sum'\n",
        "})\n",
        "\n",
        "# 단위 변환\n",
        "annual_summary['취득예정주식'] = annual_summary['취득예정주식'] / 1000000 # 주 -> 백만주 변환\n",
        "\n",
        "# 그래프 크기 설정\n",
        "fig, ax1 = plt.subplots(figsize=(12, 6))\n",
        "\n",
        "# 막대 그래프: 연도별 취득 예정 주식 수\n",
        "bars = ax1.bar(annual_summary.index,\n",
        "               annual_summary['취득예정주식'],\n",
        "               color='skyblue', edgecolor='black', alpha=0.7, label='취득 예정 주식 수(백만주)')\n",
        "ax1.set_xlabel('연도', fontproperties=font, fontsize=12)\n",
        "ax1.set_ylabel('취득 예정 주식 수(백만주)', fontproperties=font, fontsize=12, color='navy')\n",
        "ax1.tick_params(axis='y', labelcolor='navy')\n",
        "\n",
        "# x축 눈금 설정 (모든 연도 표시)\n",
        "plt.xticks(annual_summary.index, fontproperties=font, fontsize=10)\n",
        "\n",
        "# 데이터 라벨 추가 (막대 그래프)\n",
        "texts = []\n",
        "for bar in bars:\n",
        "    height = bar.get_height()\n",
        "    if height > 0:  # 데이터가 있는 경우에만 레이블 추가\n",
        "        texts.append(ax1.text(bar.get_x() + bar.get_width() / 2., height,\n",
        "                              f'{height:,.0f}', ha='center', va='bottom',\n",
        "                              fontproperties=font, fontsize=10))\n",
        "\n",
        "# 보조축 추가: 취득 예정 금액\n",
        "ax2 = ax1.twinx()\n",
        "line, = ax2.plot(annual_summary.index,\n",
        "                 annual_summary['취득예정금액'],\n",
        "                 color='orange', marker='o', label='취득 예정 금액 (억원)')\n",
        "ax2.set_ylabel('취득 예정 금액 (억원)', fontproperties=font, fontsize=12, color='orange')\n",
        "ax2.tick_params(axis='y', labelcolor='orange')\n",
        "\n",
        "# y축 보조축에 천 단위 콤마 추가\n",
        "ax2.yaxis.set_major_formatter(plt.FuncFormatter(lambda x, p: format(int(x), ',')))\n",
        "\n",
        "# 선 그래프 레이블 추가\n",
        "for i, value in enumerate(annual_summary['취득예정금액']):\n",
        "    ax2.text(annual_summary.index[i], value*0.9, f'{value:,.0f}',\n",
        "             color='orange', fontsize=10, ha='center', va='bottom', fontproperties=font)\n",
        "\n",
        "# adjustText를 사용하여 레이블 위치 조정\n",
        "adjust_text(texts, ax=ax1)\n",
        "\n",
        "# y축 그리드 추가\n",
        "ax1.grid(axis='y', linestyle='--', alpha=0.7)\n",
        "\n",
        "# 범례 추가\n",
        "fig.legend(loc='upper left', bbox_transform=ax1.transAxes, prop=font)\n",
        "\n",
        "# 그래프 제목 설정\n",
        "plt.title('연도별 자사주 취득 예정 주식 수 및 금액 (신고 기준)', fontproperties=font, fontsize=16)\n",
        "\n",
        "# 그래프 여백 조정\n",
        "plt.tight_layout()\n",
        "\n",
        "# 그래프 표시\n",
        "plt.show()\n"
      ],
      "metadata": {
        "colab": {
          "base_uri": "https://localhost:8080/",
          "height": 615
        },
        "outputId": "2aba3ced-28ab-4cc0-b2c8-16d9389dce52",
        "id": "rctMvrxEQfhs"
      },
      "execution_count": 28,
      "outputs": [
        {
          "output_type": "display_data",
          "data": {
            "text/plain": [
              "<Figure size 1200x600 with 2 Axes>"
            ],
            "image/png": "[encoded data removed]"
          },
          "metadata": {}
        }
      ]
    },
    {
      "cell_type": "markdown",
      "source": [
        "### 금감원 공시에서 장내 vs 장외 구분자 달기"
      ],
      "metadata": {
        "id": "UJkh172gQfht"
      }
    },
    {
      "cell_type": "code",
      "source": [
        "# 정규식 패턴 정의\n",
        "pattern_mkt = re.compile(r'시장|장내|시간\\s?외|거래소')  # '시간 외'와 '시간외'를 모두 포함\n",
        "pattern_otc_exclude = re.compile(r'시장\\s?외')  # '시장 외'와 '시장외'를 모두 포함\n",
        "\n",
        "# method 열 생성\n",
        "def categorize_method(method):\n",
        "    if pattern_mkt.search(method) and not pattern_otc_exclude.search(method):\n",
        "        return 'mkt'\n",
        "    else:\n",
        "        return 'otc'\n",
        "\n",
        "# 새로운 열에 카테고리 할당\n",
        "df_dart_buyback['method'] = df_dart_buyback['취득방법'].apply(categorize_method)"
      ],
      "metadata": {
        "id": "AzxvmeNDQfht"
      },
      "execution_count": 29,
      "outputs": []
    },
    {
      "cell_type": "markdown",
      "source": [
        "### 금감원 공시에서 시간외대량매매 구분자 달기"
      ],
      "metadata": {
        "id": "_jCEWyKuQfht"
      }
    },
    {
      "cell_type": "code",
      "source": [
        "# 정규식 패턴 정의 |대량|시간\\s?외\n",
        "pattern_blockdeal = re.compile(r'대량|시간\\s?외')  # 대량, 시간외가 있으면 포함\n",
        "pattern_otc_exclude = re.compile(r'시장\\s?외')  # '시장 외'와 '시장외'를 모두 포함\n",
        "\n",
        "# method 열 생성\n",
        "def categorize_method_blockdeal(method):\n",
        "    if pattern_blockdeal.search(method) and not pattern_otc_exclude.search(method):\n",
        "        return 'blockdeal'\n",
        "    else:\n",
        "        return 'not_bd'\n",
        "\n",
        "# 새로운 열에 카테고리 할당\n",
        "df_dart_buyback['blockdeal'] = df_dart_buyback['취득방법'].apply(categorize_method_blockdeal)\n",
        "\n",
        "# 확인해보기\n",
        "df_dart_buyback[df_dart_buyback['blockdeal'] ==  'blockdeal']"
      ],
      "metadata": {
        "id": "3EuCnY5IQfht"
      },
      "execution_count": null,
      "outputs": []
    },
    {
      "cell_type": "markdown",
      "source": [
        "코스닥의 경우에는 2015~2024년 동안 시간외대량매매로 자사주 매입을 한 경우가 한번도 없었습니다. 코스피와 코스닥을 통틀어 '시간외대량매매'방식을 통한 자사주 매입은 사실상 없다고 봐도 될 것같습니다.<br>\n",
        "<br>\n",
        "코스피와 마찬가지로, 코스닥에서도 상장사가 기재한 '취득방법'을 전부 확인해보도록 하겠습니다. 시간외대량매매가 없습니다."
      ],
      "metadata": {
        "id": "twGqNF2aW0xk"
      }
    },
    {
      "cell_type": "code",
      "source": [
        "sorted(df_dart_buyback['취득방법'].unique())"
      ],
      "metadata": {
        "colab": {
          "base_uri": "https://localhost:8080/"
        },
        "id": "aecsTt4ESVMw",
        "outputId": "094b5a5b-ebd1-4f2e-feac-3368e8918058"
      },
      "execution_count": 35,
      "outputs": [
        {
          "output_type": "execute_result",
          "data": {
            "text/plain": [
              "['-',\n",
              " 'KOSDAQ 시장에서 직접 취득',\n",
              " '계좌이체',\n",
              " '공개매수',\n",
              " '기타 장외매수',\n",
              " '기타취득',\n",
              " '당사 직접취득',\n",
              " '당사자 사이의 상환전환우선주 계약에 의한 매수(장외매수)',\n",
              " '당사자간 계약에 의한 직접매수',\n",
              " '대물상환계약에 따른 실물인수',\n",
              " '무상 수증',\n",
              " '무상 증여',\n",
              " '무상수증',\n",
              " '상환우선주 및 우선주 보유주주로 부터 장외 직접 매수',\n",
              " '상환우선주 보유주주로 부터 장외 직접매수',\n",
              " '상환전환우선주 보유주주로 부터 장외 직접 매수',\n",
              " '상환전환우선주 보유주주로부터 장외 직접 매수',\n",
              " '상환전환우선주식을 보유한 우선주주로부터 상환청구통지 수령 및 상환대금 납입',\n",
              " '실물 취득',\n",
              " '유가증권 시장을 통한 직접 취득',\n",
              " '유가증권시장을 통한 장내 매수',\n",
              " '장내',\n",
              " '장내 매수',\n",
              " '장내 직접 취득',\n",
              " '장내 직접취득',\n",
              " '장내 취득',\n",
              " '장내매매',\n",
              " '장내매수',\n",
              " '장내매수 (직접취득)',\n",
              " '장내매수(직접 취득)',\n",
              " '장내매수(직접취득)',\n",
              " '장내매수방식',\n",
              " '장내직접취득',\n",
              " '장내취득',\n",
              " '장외 직접 매수',\n",
              " '장외 취득(계좌간 대체)',\n",
              " '장외매수',\n",
              " '장외직접매수',\n",
              " '장외취득',\n",
              " '전환상환우선주 보유주주로부터 직접매수',\n",
              " '전환우선주 보유주주로 부터 장외 직접 매수',\n",
              " '증권계좌 대체로 장외 직접취득',\n",
              " '증권시장 내 장내취득',\n",
              " '증권시장 장내 직접취득',\n",
              " '증권시장내 매수',\n",
              " '증권시장내 직접 취득',\n",
              " '증권시장에서 장내 취득',\n",
              " '증권시장에서 장내취득',\n",
              " '증권시장에서 직접 취득',\n",
              " '증권시장에서 취득',\n",
              " '증권시장에서의 장내취득',\n",
              " '증권시장에서의 취득',\n",
              " '증권시장을 통한 장내 직접 취득',\n",
              " '증권시장을 통한 장내 직접취득',\n",
              " '증권시장을 통한 직접취득',\n",
              " '질권말소 후 입고',\n",
              " '최대주주로부터 무상수증',\n",
              " '코넥스시장을 통한 장내 직접취득',\n",
              " '코스닥 시장 장내 매수',\n",
              " '코스닥 시장 장내 직접 취득',\n",
              " '코스닥 시장 장내 직접취득',\n",
              " '코스닥 시장에서 직접취득',\n",
              " '코스닥 시장에서의 취득',\n",
              " '코스닥 시장을 통한 장내 매수',\n",
              " '코스닥 시장을 통한 장내 직접 취득',\n",
              " '코스닥 시장을 통한 장내 직접취득',\n",
              " '코스닥 시장을 통한 장내매수',\n",
              " '코스닥 시장을 통한 직접 매수',\n",
              " '코스닥 시장을 통한 직접 취득',\n",
              " '코스닥 시장을 통한 직접매수',\n",
              " '코스닥 시장을 통한 직접취득',\n",
              " '코스닥 증권시장에서 장내취득',\n",
              " '코스닥 증권시장에서 직접취득',\n",
              " '코스닥 증권시장에서의 직접 취득',\n",
              " '코스닥 증권시장에서의 취득',\n",
              " '코스닥 증권시장을 통한 장내 당사 직접취득',\n",
              " '코스닥 증권시장을 통한 장내 매수',\n",
              " '코스닥 증권시장을 통한 장내 직접 취득',\n",
              " '코스닥 증권시장을 통한 장내 직접취득',\n",
              " '코스닥 증권시장을 통한 장내매수',\n",
              " '코스닥 증권시장을 통한 장내매수 (직접 취득)',\n",
              " '코스닥 증권시장을 통한 직접 취득',\n",
              " '코스닥시장 내에서 직접 취득',\n",
              " '코스닥시장 장내 직접 취득',\n",
              " '코스닥시장 장내 직접취득',\n",
              " '코스닥시장 장내매수',\n",
              " '코스닥시장내에서 직접취득',\n",
              " '코스닥시장에서의 장내매수',\n",
              " '코스닥시장에서의 직접 취득',\n",
              " '코스닥시장을 통한 장내 매수',\n",
              " '코스닥시장을 통한 장내 매수 (직접취득)',\n",
              " '코스닥시장을 통한 장내 직접 취득',\n",
              " '코스닥시장을 통한 장내 직접매수',\n",
              " '코스닥시장을 통한 장내 직접취득',\n",
              " '코스닥시장을 통한 장내 취득',\n",
              " '코스닥시장을 통한 장내매수',\n",
              " '코스닥시장을 통한 장내직접취득',\n",
              " '코스닥시장을 통한 장내취득',\n",
              " '코스닥시장을 통한 직접 취득',\n",
              " '코스닥시장을 통한 직접취득',\n",
              " '코스닥시장의 장내 취득',\n",
              " '코스닥증권 시장을 통한 장내 취득',\n",
              " '코스닥증권 시장을 통한 장내매수',\n",
              " '코스닥증권시장 장내매수',\n",
              " '코스닥증권시장에서 장내 직접취득',\n",
              " '코스닥증권시장을 통한 매수',\n",
              " '코스닥증권시장을 통한 매수 (직접취득)',\n",
              " '코스닥증권시장을 통한 장내 매수',\n",
              " '코스닥증권시장을 통한 장내매수',\n",
              " '한국거래소를 통한 장내 매입',\n",
              " '한국거래소를 통한 장내 직접취득',\n",
              " '한국거래소를 통한 장내매입']"
            ]
          },
          "metadata": {},
          "execution_count": 35
        }
      ]
    },
    {
      "cell_type": "markdown",
      "source": [
        "다음 포스팅에서는 자사주 처분의 경우를 확인해보도록 하겠습니다."
      ],
      "metadata": {
        "id": "jokWqvCbYFzP"
      }
    }
  ]
}